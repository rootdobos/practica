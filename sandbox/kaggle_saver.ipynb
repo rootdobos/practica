{
 "cells": [
  {
   "cell_type": "code",
   "execution_count": 1,
   "metadata": {},
   "outputs": [
    {
     "name": "stdout",
     "output_type": "stream",
     "text": [
      "500\n"
     ]
    },
    {
     "name": "stderr",
     "output_type": "stream",
     "text": [
      "c:\\Users\\user\\.julia\\conda\\3\\lib\\site-packages\\IPython\\core\\interactiveshell.py:3441: FutureWarning: The error_bad_lines argument has been deprecated and will be removed in a future version.\n",
      "\n",
      "\n",
      "  exec(code_obj, self.user_global_ns, self.user_ns)\n"
     ]
    },
    {
     "data": {
      "text/html": [
       "<div>\n",
       "<style scoped>\n",
       "    .dataframe tbody tr th:only-of-type {\n",
       "        vertical-align: middle;\n",
       "    }\n",
       "\n",
       "    .dataframe tbody tr th {\n",
       "        vertical-align: top;\n",
       "    }\n",
       "\n",
       "    .dataframe thead th {\n",
       "        text-align: right;\n",
       "    }\n",
       "</style>\n",
       "<table border=\"1\" class=\"dataframe\">\n",
       "  <thead>\n",
       "    <tr style=\"text-align: right;\">\n",
       "      <th></th>\n",
       "      <th>image_id</th>\n",
       "      <th>data_provider</th>\n",
       "      <th>isup_grade</th>\n",
       "      <th>gleason_score</th>\n",
       "    </tr>\n",
       "  </thead>\n",
       "  <tbody>\n",
       "    <tr>\n",
       "      <th>0</th>\n",
       "      <td>035a5208729ef164213954598b8df75d</td>\n",
       "      <td>radboud</td>\n",
       "      <td>0</td>\n",
       "      <td>negative</td>\n",
       "    </tr>\n",
       "    <tr>\n",
       "      <th>1</th>\n",
       "      <td>035b1edd3d1aeeffc77ce5d248a01a53</td>\n",
       "      <td>radboud</td>\n",
       "      <td>0</td>\n",
       "      <td>negative</td>\n",
       "    </tr>\n",
       "    <tr>\n",
       "      <th>2</th>\n",
       "      <td>037504061b9fba71ef6e24c48c6df44d</td>\n",
       "      <td>radboud</td>\n",
       "      <td>0</td>\n",
       "      <td>negative</td>\n",
       "    </tr>\n",
       "    <tr>\n",
       "      <th>3</th>\n",
       "      <td>037f29b7d62479c7fb257903f401269a</td>\n",
       "      <td>radboud</td>\n",
       "      <td>0</td>\n",
       "      <td>negative</td>\n",
       "    </tr>\n",
       "    <tr>\n",
       "      <th>4</th>\n",
       "      <td>03cb612a6410c5503aa9cf3d0ba1740f</td>\n",
       "      <td>karolinska</td>\n",
       "      <td>0</td>\n",
       "      <td>0+0</td>\n",
       "    </tr>\n",
       "  </tbody>\n",
       "</table>\n",
       "</div>"
      ],
      "text/plain": [
       "                           image_id data_provider  isup_grade gleason_score\n",
       "0  035a5208729ef164213954598b8df75d       radboud           0      negative\n",
       "1  035b1edd3d1aeeffc77ce5d248a01a53       radboud           0      negative\n",
       "2  037504061b9fba71ef6e24c48c6df44d       radboud           0      negative\n",
       "3  037f29b7d62479c7fb257903f401269a       radboud           0      negative\n",
       "4  03cb612a6410c5503aa9cf3d0ba1740f    karolinska           0           0+0"
      ]
     },
     "execution_count": 1,
     "metadata": {},
     "output_type": "execute_result"
    }
   ],
   "source": [
    "\n",
    "import pandas as pd\n",
    "\n",
    "\n",
    "df= pd.read_csv(\"train_subset.csv\", error_bad_lines=False)\n",
    "\n",
    "print(df.size)\n",
    "df.head()\n"
   ]
  },
  {
   "cell_type": "code",
   "execution_count": 2,
   "metadata": {},
   "outputs": [
    {
     "name": "stdout",
     "output_type": "stream",
     "text": [
      "train_images/035a5208729ef164213954598b8df75d.tiff\n"
     ]
    }
   ],
   "source": [
    "train_images = 'train_images/' + df['image_id'].sort_values() + '.tiff'\n",
    "first =train_images[0]\n",
    "print(first)"
   ]
  },
  {
   "cell_type": "code",
   "execution_count": 5,
   "metadata": {},
   "outputs": [
    {
     "name": "stdout",
     "output_type": "stream",
     "text": [
      "Found existing installation: kaggle 1.5.6\n",
      "Uninstalling kaggle-1.5.6:\n",
      "  Successfully uninstalled kaggle-1.5.6\n"
     ]
    },
    {
     "name": "stderr",
     "output_type": "stream",
     "text": [
      "ERROR: Exception:\n",
      "Traceback (most recent call last):\n",
      "  File \"c:\\users\\user\\.julia\\conda\\3\\lib\\site-packages\\pip\\_internal\\cli\\base_command.py\", line 160, in exc_logging_wrapper\n",
      "    status = run_func(*args)\n",
      "  File \"c:\\users\\user\\.julia\\conda\\3\\lib\\site-packages\\pip\\_internal\\commands\\uninstall.py\", line 110, in run\n",
      "    uninstall_pathset.commit()\n",
      "  File \"c:\\users\\user\\.julia\\conda\\3\\lib\\site-packages\\pip\\_internal\\req\\req_uninstall.py\", line 424, in commit\n",
      "    self._moved_paths.commit()\n",
      "  File \"c:\\users\\user\\.julia\\conda\\3\\lib\\site-packages\\pip\\_internal\\req\\req_uninstall.py\", line 277, in commit\n",
      "    save_dir.cleanup()\n",
      "  File \"c:\\users\\user\\.julia\\conda\\3\\lib\\site-packages\\pip\\_internal\\utils\\temp_dir.py\", line 173, in cleanup\n",
      "    rmtree(self._path)\n",
      "  File \"c:\\users\\user\\.julia\\conda\\3\\lib\\site-packages\\pip\\_vendor\\tenacity\\__init__.py\", line 328, in wrapped_f\n",
      "    return self(f, *args, **kw)\n",
      "  File \"c:\\users\\user\\.julia\\conda\\3\\lib\\site-packages\\pip\\_vendor\\tenacity\\__init__.py\", line 408, in __call__\n",
      "    do = self.iter(retry_state=retry_state)\n",
      "  File \"c:\\users\\user\\.julia\\conda\\3\\lib\\site-packages\\pip\\_vendor\\tenacity\\__init__.py\", line 364, in iter\n",
      "    raise retry_exc.reraise()\n",
      "  File \"c:\\users\\user\\.julia\\conda\\3\\lib\\site-packages\\pip\\_vendor\\tenacity\\__init__.py\", line 197, in reraise\n",
      "    raise self.last_attempt.result()\n",
      "  File \"c:\\users\\user\\.julia\\conda\\3\\lib\\concurrent\\futures\\_base.py\", line 438, in result\n",
      "    return self.__get_result()\n",
      "  File \"c:\\users\\user\\.julia\\conda\\3\\lib\\concurrent\\futures\\_base.py\", line 390, in __get_result\n",
      "    raise self._exception\n",
      "  File \"c:\\users\\user\\.julia\\conda\\3\\lib\\site-packages\\pip\\_vendor\\tenacity\\__init__.py\", line 411, in __call__\n",
      "    result = fn(*args, **kwargs)\n",
      "  File \"c:\\users\\user\\.julia\\conda\\3\\lib\\site-packages\\pip\\_internal\\utils\\misc.py\", line 129, in rmtree\n",
      "    shutil.rmtree(dir, ignore_errors=ignore_errors, onerror=rmtree_errorhandler)\n",
      "  File \"c:\\users\\user\\.julia\\conda\\3\\lib\\shutil.py\", line 740, in rmtree\n",
      "    return _rmtree_unsafe(path, onerror)\n",
      "  File \"c:\\users\\user\\.julia\\conda\\3\\lib\\shutil.py\", line 618, in _rmtree_unsafe\n",
      "    onerror(os.unlink, fullname, sys.exc_info())\n",
      "  File \"c:\\users\\user\\.julia\\conda\\3\\lib\\shutil.py\", line 616, in _rmtree_unsafe\n",
      "    os.unlink(fullname)\n",
      "PermissionError: [WinError 5] Access is denied: 'C:\\\\Users\\\\user\\\\AppData\\\\Local\\\\Temp\\\\pip-uninstall-uoqpqrp8\\\\kaggle.exe'\n"
     ]
    },
    {
     "name": "stdout",
     "output_type": "stream",
     "text": [
      "Requirement already satisfied: pip in c:\\users\\user\\.julia\\conda\\3\\lib\\site-packages (23.0.1)\n",
      "Collecting kaggle==1.5.6\n",
      "  Using cached kaggle-1.5.6-py3-none-any.whl\n",
      "Requirement already satisfied: certifi in c:\\users\\user\\.julia\\conda\\3\\lib\\site-packages (from kaggle==1.5.6) (2022.9.14)\n",
      "Requirement already satisfied: python-dateutil in c:\\users\\user\\.julia\\conda\\3\\lib\\site-packages (from kaggle==1.5.6) (2.8.2)\n",
      "Requirement already satisfied: urllib3<1.25,>=1.21.1 in c:\\users\\user\\.julia\\conda\\3\\lib\\site-packages (from kaggle==1.5.6) (1.24.3)\n",
      "Requirement already satisfied: six>=1.10 in c:\\users\\user\\.julia\\conda\\3\\lib\\site-packages (from kaggle==1.5.6) (1.16.0)\n",
      "Requirement already satisfied: tqdm in c:\\users\\user\\.julia\\conda\\3\\lib\\site-packages (from kaggle==1.5.6) (4.61.2)\n",
      "Requirement already satisfied: python-slugify in c:\\users\\user\\.julia\\conda\\3\\lib\\site-packages (from kaggle==1.5.6) (6.1.2)\n",
      "Requirement already satisfied: requests in c:\\users\\user\\.julia\\conda\\3\\lib\\site-packages (from kaggle==1.5.6) (2.25.1)\n",
      "Requirement already satisfied: text-unidecode>=1.3 in c:\\users\\user\\.julia\\conda\\3\\lib\\site-packages (from python-slugify->kaggle==1.5.6) (1.3)\n",
      "Requirement already satisfied: idna<3,>=2.5 in c:\\users\\user\\.julia\\conda\\3\\lib\\site-packages (from requests->kaggle==1.5.6) (2.10)\n",
      "Requirement already satisfied: chardet<5,>=3.0.2 in c:\\users\\user\\.julia\\conda\\3\\lib\\site-packages (from requests->kaggle==1.5.6) (4.0.0)\n",
      "Requirement already satisfied: colorama in c:\\users\\user\\.julia\\conda\\3\\lib\\site-packages (from tqdm->kaggle==1.5.6) (0.4.4)\n",
      "Installing collected packages: kaggle\n",
      "Successfully installed kaggle-1.5.6\n"
     ]
    }
   ],
   "source": [
    "!pip uninstall -y kaggle\n",
    "!pip install --upgrade pip\n",
    "!pip install kaggle==1.5.6"
   ]
  },
  {
   "cell_type": "code",
   "execution_count": 6,
   "metadata": {},
   "outputs": [
    {
     "name": "stdout",
     "output_type": "stream",
     "text": [
      "429 - Too Many Requests\n",
      "^C\n"
     ]
    }
   ],
   "source": [
    "import time\n",
    "!kaggle competitions download -f $first -p /train_images/ -c prostate-cancer-grade-assessment\n",
    "# for filename in train_images:\n",
    "#     !kaggle competitions download -f $filename -p /train_images/ -c prostate-cancer-grade-assessment\n",
    "#     time.sleep(1)\n"
   ]
  }
 ],
 "metadata": {
  "kernelspec": {
   "display_name": "Python 3",
   "language": "python",
   "name": "python3"
  },
  "language_info": {
   "codemirror_mode": {
    "name": "ipython",
    "version": 3
   },
   "file_extension": ".py",
   "mimetype": "text/x-python",
   "name": "python",
   "nbconvert_exporter": "python",
   "pygments_lexer": "ipython3",
   "version": "3.9.5"
  },
  "orig_nbformat": 4,
  "vscode": {
   "interpreter": {
    "hash": "16a175bc149979f2f7e27f4236f4ae171c46587a8a4ac1fc449b58aac9db96c1"
   }
  }
 },
 "nbformat": 4,
 "nbformat_minor": 2
}
