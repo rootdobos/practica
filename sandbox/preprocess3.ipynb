{
 "cells": [
  {
   "cell_type": "code",
   "execution_count": null,
   "metadata": {},
   "outputs": [],
   "source": []
  },
  {
   "cell_type": "code",
   "execution_count": null,
   "metadata": {},
   "outputs": [],
   "source": [
    "\n"
   ]
  },
  {
   "cell_type": "code",
   "execution_count": 3,
   "metadata": {},
   "outputs": [
    {
     "data": {
      "application/vnd.jupyter.widget-view+json": {
       "model_id": "4ffff3b389524ed29e6c36432df3e339",
       "version_major": 2,
       "version_minor": 0
      },
      "text/plain": [
       "  0%|          | 0/10613 [00:00<?, ?it/s]"
      ]
     },
     "metadata": {},
     "output_type": "display_data"
    }
   ],
   "source": [
    "import numpy as np\n",
    "import pandas as pd\n",
    "import matplotlib.pyplot as plt\n",
    "import utils3\n",
    "import tile_extraction_v3\n",
    "\n",
    "#df = pd.read_csv('train_subset.csv')\n",
    "df = pd.read_csv('E:/data/prostate_cancer/train.csv')\n",
    "\n",
    "import os\n",
    "from multiprocessing import Pool\n",
    "from tqdm.notebook import tqdm\n",
    "from PIL import Image\n",
    "import time\n",
    "import utils3\n",
    "tile_extractor= tile_extraction_v3.TileExtractor(0,256,6,6,4)\n",
    "if(not os.path.exists(tile_extractor.tiles_dir)):\n",
    "    os.mkdir(tile_extractor.tiles_dir)\n",
    "if(not os.path.exists(\"{}.csv\".format(tile_extractor.tiles_dir))):\n",
    "    new_df= pd.DataFrame(columns=df.columns)\n",
    "    for index,row in df.iterrows():\n",
    "        new_df= new_df.append(row.copy(deep=True),ignore_index=True)\n",
    "        for i in range(tile_extractor.augmentation):\n",
    "            new_row=row.copy(deep=True)\n",
    "            new_row['image_id']=\"{}_{}\".format(new_row['image_id'],i)\n",
    "            new_df= new_df.append(new_row,ignore_index=True)\n",
    "            \n",
    "    new_df.to_csv(\"{}.csv\".format(tile_extractor.tiles_dir),index=False)\n",
    "#tile_extractor.process_image(df['image_id'][0])\n",
    "\n",
    "batch = df['image_id']\n",
    "# debug====\n",
    "# for x in batch:\n",
    "#     tile_extractor.process_image(x)\n",
    "# ====\n",
    "\n",
    "with Pool(processes=10) as pool:\n",
    "    res = list(\n",
    "        tqdm(pool.imap(tile_extractor.process_image, list(batch)), total = len(batch))\n",
    "    )"
   ]
  },
  {
   "cell_type": "code",
   "execution_count": null,
   "metadata": {},
   "outputs": [
    {
     "name": "stdout",
     "output_type": "stream",
     "text": [
      "(36, 512, 512, 3)\n"
     ]
    }
   ],
   "source": [
    "#ISUP 0\n",
    "#tile_extractor.process_image(\"0200fa88e8c01546663b9db1726936ac\")"
   ]
  },
  {
   "cell_type": "code",
   "execution_count": null,
   "metadata": {},
   "outputs": [
    {
     "name": "stdout",
     "output_type": "stream",
     "text": [
      "(36, 512, 512, 3)\n"
     ]
    }
   ],
   "source": [
    "#ISUP 1\n",
    "#tile_extractor.process_image(\"01faa9d3bc7a2464c7b6d71ea904970f\")"
   ]
  },
  {
   "cell_type": "code",
   "execution_count": null,
   "metadata": {},
   "outputs": [
    {
     "name": "stdout",
     "output_type": "stream",
     "text": [
      "(36, 512, 512, 3)\n"
     ]
    }
   ],
   "source": [
    "#ISUP 2\n",
    "#tile_extractor.process_image(\"01e9fa9938ac458e6307690bfce89ec1\")"
   ]
  },
  {
   "cell_type": "code",
   "execution_count": null,
   "metadata": {},
   "outputs": [
    {
     "name": "stdout",
     "output_type": "stream",
     "text": [
      "(36, 512, 512, 3)\n"
     ]
    }
   ],
   "source": [
    "#ISUP 3\n",
    "#tile_extractor.process_image(\"01c977c97e2f5543e65e559d98dec93c\")"
   ]
  },
  {
   "cell_type": "code",
   "execution_count": null,
   "metadata": {},
   "outputs": [
    {
     "name": "stdout",
     "output_type": "stream",
     "text": [
      "(36, 512, 512, 3)\n"
     ]
    }
   ],
   "source": [
    "#ISUP 4\n",
    "tile_extractor.process_image(\"00a97615a51ba4c475bdec8505623bf9\")"
   ]
  },
  {
   "cell_type": "code",
   "execution_count": null,
   "metadata": {},
   "outputs": [
    {
     "name": "stdout",
     "output_type": "stream",
     "text": [
      "(36, 512, 512, 3)\n"
     ]
    }
   ],
   "source": [
    "#ISUP 5\n",
    "tile_extractor.process_image(\"00c52cb4db1c7a5811a8f070a910c038\")"
   ]
  }
 ],
 "metadata": {
  "kernelspec": {
   "display_name": "Python 3",
   "language": "python",
   "name": "python3"
  },
  "language_info": {
   "codemirror_mode": {
    "name": "ipython",
    "version": 3
   },
   "file_extension": ".py",
   "mimetype": "text/x-python",
   "name": "python",
   "nbconvert_exporter": "python",
   "pygments_lexer": "ipython3",
   "version": "3.9.5"
  },
  "orig_nbformat": 4
 },
 "nbformat": 4,
 "nbformat_minor": 2
}
