{
 "cells": [
  {
   "cell_type": "code",
   "execution_count": 1,
   "metadata": {},
   "outputs": [],
   "source": [
    "import numpy as np\n",
    "import pandas as pd\n",
    "import matplotlib.pyplot as plt\n",
    "import utils3\n",
    "import tile_extraction_v3"
   ]
  },
  {
   "cell_type": "code",
   "execution_count": 2,
   "metadata": {},
   "outputs": [],
   "source": [
    "df = pd.read_csv('train_subset.csv')"
   ]
  },
  {
   "cell_type": "code",
   "execution_count": 3,
   "metadata": {},
   "outputs": [],
   "source": [
    "# for i in range(12):\n",
    "#     f, axarr = plt.subplots(1, 3, figsize=(20,20))\n",
    "#     idx = np.random.randint(0, len(df))        \n",
    "#     row = df.loc[idx]\n",
    "#     im = utils3.imread(f\"{tile_extraction_v3.IMG_DIR}{row['image_id']}.tiff\", layer=tile_extraction_v3.LAYER)        \n",
    "#     arr = np.asarray(im)\n",
    "#     arr = utils3.enhance_image(arr)\n",
    "#     arr = utils3.unsharp_masking(arr)\n",
    "#     tiles1, img_map = tile_extraction_v3.akensert_tiles(arr, debug=True)\n",
    "#     tiles2 = tile_extraction_v3.lafoss_tiles(arr)    \n",
    "#     axarr[0].set_title(f'id:{idx}')\n",
    "#     axarr[0].imshow(img_map.squeeze())\n",
    "#     axarr[1].set_title('akensert')\n",
    "#     axarr[1].imshow(tiles1.squeeze())\n",
    "#     axarr[2].set_title('lafoss')\n",
    "#     axarr[2].imshow(tiles2.squeeze()) "
   ]
  },
  {
   "cell_type": "code",
   "execution_count": null,
   "metadata": {},
   "outputs": [],
   "source": [
    "\n"
   ]
  },
  {
   "cell_type": "code",
   "execution_count": 4,
   "metadata": {},
   "outputs": [
    {
     "data": {
      "application/vnd.jupyter.widget-view+json": {
       "model_id": "1d2e6580318d433cbc9e5f99609fc2d5",
       "version_major": 2,
       "version_minor": 0
      },
      "text/plain": [
       "  0%|          | 0/605 [00:00<?, ?it/s]"
      ]
     },
     "metadata": {},
     "output_type": "display_data"
    }
   ],
   "source": [
    "import os\n",
    "from multiprocessing import Pool\n",
    "from tqdm.notebook import tqdm\n",
    "from PIL import Image\n",
    "import time\n",
    "import utils3\n",
    "tile_extractor= tile_extraction_v3.TileExtractor(1,64,4,4,0)\n",
    "if(not os.path.exists(tile_extractor.tiles_dir)):\n",
    "    os.mkdir(tile_extractor.tiles_dir)\n",
    "\n",
    "new_df= pd.DataFrame(columns=df.columns)\n",
    "for index,row in df.iterrows():\n",
    "    new_df= new_df.append(row.copy(deep=True),ignore_index=True)\n",
    "    for i in range(tile_extractor.augmentation):\n",
    "        new_row=row.copy(deep=True)\n",
    "        new_row['image_id']=\"{}_{}\".format(new_row['image_id'],i)\n",
    "        new_df= new_df.append(new_row,ignore_index=True)\n",
    "        \n",
    "new_df.to_csv(\"{}.csv\".format(tile_extractor.tiles_dir),index=False)\n",
    "#tile_extraction_v3.process_image(df['image_id'][0])\n",
    "\n",
    "batch = df['image_id']\n",
    "with Pool(processes=8) as pool:\n",
    "    res = list(\n",
    "        tqdm(pool.imap(tile_extractor.process_image, list(batch)), total = len(batch))\n",
    "    )"
   ]
  }
 ],
 "metadata": {
  "kernelspec": {
   "display_name": "Python 3",
   "language": "python",
   "name": "python3"
  },
  "language_info": {
   "codemirror_mode": {
    "name": "ipython",
    "version": 3
   },
   "file_extension": ".py",
   "mimetype": "text/x-python",
   "name": "python",
   "nbconvert_exporter": "python",
   "pygments_lexer": "ipython3",
   "version": "3.9.5"
  },
  "orig_nbformat": 4
 },
 "nbformat": 4,
 "nbformat_minor": 2
}
