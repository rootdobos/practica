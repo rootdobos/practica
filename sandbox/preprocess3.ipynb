{
 "cells": [
  {
   "cell_type": "code",
   "execution_count": 1,
   "metadata": {},
   "outputs": [],
   "source": [
    "import numpy as np\n",
    "import pandas as pd\n",
    "import matplotlib.pyplot as plt\n",
    "import utils3\n",
    "import tile_extraction_v3"
   ]
  },
  {
   "cell_type": "code",
   "execution_count": 2,
   "metadata": {},
   "outputs": [],
   "source": [
    "df = pd.read_csv('train_subset.csv')"
   ]
  },
  {
   "cell_type": "code",
   "execution_count": 3,
   "metadata": {},
   "outputs": [],
   "source": [
    "# for i in range(12):\n",
    "#     f, axarr = plt.subplots(1, 3, figsize=(20,20))\n",
    "#     idx = np.random.randint(0, len(df))        \n",
    "#     row = df.loc[idx]\n",
    "#     im = utils3.imread(f\"{tile_extraction_v3.IMG_DIR}{row['image_id']}.tiff\", layer=tile_extraction_v3.LAYER)        \n",
    "#     arr = np.asarray(im)\n",
    "#     arr = utils3.enhance_image(arr)\n",
    "#     arr = utils3.unsharp_masking(arr)\n",
    "#     tiles1, img_map = tile_extraction_v3.akensert_tiles(arr, debug=True)\n",
    "#     tiles2 = tile_extraction_v3.lafoss_tiles(arr)    \n",
    "#     axarr[0].set_title(f'id:{idx}')\n",
    "#     axarr[0].imshow(img_map.squeeze())\n",
    "#     axarr[1].set_title('akensert')\n",
    "#     axarr[1].imshow(tiles1.squeeze())\n",
    "#     axarr[2].set_title('lafoss')\n",
    "#     axarr[2].imshow(tiles2.squeeze()) "
   ]
  },
  {
   "cell_type": "code",
   "execution_count": null,
   "metadata": {},
   "outputs": [],
   "source": [
    "\n"
   ]
  },
  {
   "cell_type": "code",
   "execution_count": 4,
   "metadata": {},
   "outputs": [
    {
     "name": "stdout",
     "output_type": "stream",
     "text": [
      "Shape of coords:\n",
      "(98, 3)\n"
     ]
    }
   ],
   "source": [
    "import os\n",
    "from multiprocessing import Pool\n",
    "from tqdm.notebook import tqdm\n",
    "from PIL import Image\n",
    "import time\n",
    "import utils3\n",
    "if(not os.path.exists(tile_extraction_v3.TILES_DIR)):\n",
    "    os.mkdir(tile_extraction_v3.TILES_DIR)\n",
    "\n",
    "tile_extraction_v3.process_image(df['image_id'][0])\n",
    "\n",
    "# batch = df['image_id']#.head(100)\n",
    "# with Pool(processes=4) as pool:\n",
    "#     res = list(\n",
    "#         tqdm(pool.imap(tile_extraction_v3.process_image, list(batch)), total = len(batch))\n",
    "#     )"
   ]
  }
 ],
 "metadata": {
  "kernelspec": {
   "display_name": "Python 3",
   "language": "python",
   "name": "python3"
  },
  "language_info": {
   "codemirror_mode": {
    "name": "ipython",
    "version": 3
   },
   "file_extension": ".py",
   "mimetype": "text/x-python",
   "name": "python",
   "nbconvert_exporter": "python",
   "pygments_lexer": "ipython3",
   "version": "3.9.5"
  },
  "orig_nbformat": 4
 },
 "nbformat": 4,
 "nbformat_minor": 2
}
